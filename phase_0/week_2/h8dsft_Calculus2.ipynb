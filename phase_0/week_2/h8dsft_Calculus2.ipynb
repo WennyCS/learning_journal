{
  "nbformat": 4,
  "nbformat_minor": 0,
  "metadata": {
    "colab": {
      "name": "h8dsft_Calculus2.ipynb",
      "provenance": []
    },
    "kernelspec": {
      "name": "python3",
      "display_name": "Python 3"
    },
    "language_info": {
      "name": "python"
    }
  },
  "cells": [
    {
      "cell_type": "markdown",
      "source": [
        "#Soal\n",
        "Cari integral dari:\n",
        "\n",
        "3*x**2 -6*x+3\n",
        "\n",
        "8*x**3-x**2+5*x-1\n"
      ],
      "metadata": {
        "id": "oDeROtmOL1HT"
      }
    },
    {
      "cell_type": "code",
      "source": [
        ""
      ],
      "metadata": {
        "id": "jbHtq8JTNx4H"
      },
      "execution_count": 7,
      "outputs": []
    },
    {
      "cell_type": "markdown",
      "source": [
        "## 1. Integral dari 3*x**2 -6*x+3\n"
      ],
      "metadata": {
        "id": "JxZxuKrAM1ci"
      }
    },
    {
      "cell_type": "markdown",
      "source": [
        "### Numeric - Fungsi"
      ],
      "metadata": {
        "id": "QZsQ2_d8QI6R"
      }
    },
    {
      "cell_type": "code",
      "execution_count": 8,
      "metadata": {
        "colab": {
          "base_uri": "https://localhost:8080/"
        },
        "id": "V8drGrELLRnN",
        "outputId": "a0bdb53b-73a5-47b5-b8d0-c2b23d2b36db"
      },
      "outputs": [
        {
          "output_type": "stream",
          "name": "stdout",
          "text": [
            "(342.99999999999994, 3.808064974464286e-12)\n"
          ]
        }
      ],
      "source": [
        "from scipy import integrate\n",
        "\n",
        "def f(x):\n",
        "  return 3*x**2 -6*x+3\n",
        "  \n",
        "A = integrate.quad(f,1,8)\n",
        "print(A)"
      ]
    },
    {
      "cell_type": "markdown",
      "source": [
        "### Numeric - Data/Array"
      ],
      "metadata": {
        "id": "v6-CxaC0QawH"
      }
    },
    {
      "cell_type": "code",
      "source": [
        "from scipy import integrate\n",
        "import numpy as np\n",
        "\n",
        "def f(x):\n",
        "  return 3*x**2 -6*x+3\n",
        "\n",
        "x = np.linspace(1,8)\n",
        "y = f(x)\n",
        "\n",
        "A = integrate.trapz(y,x)\n",
        "A"
      ],
      "metadata": {
        "colab": {
          "base_uri": "https://localhost:8080/"
        },
        "id": "g1eB_lLtPljI",
        "outputId": "a81d0291-66a4-49cb-fb0a-fc3aba329635"
      },
      "execution_count": 11,
      "outputs": [
        {
          "output_type": "execute_result",
          "data": {
            "text/plain": [
              "343.0714285714286"
            ]
          },
          "metadata": {},
          "execution_count": 11
        }
      ]
    },
    {
      "cell_type": "markdown",
      "source": [
        "### Symbol"
      ],
      "metadata": {
        "id": "onNR2rVqRV25"
      }
    },
    {
      "cell_type": "code",
      "source": [
        "import sympy as sy\n",
        "\n",
        "x = sy.Symbol('x')\n",
        "f = 3*x**2 -6*x+3\n",
        "sy.integrate(f)"
      ],
      "metadata": {
        "colab": {
          "base_uri": "https://localhost:8080/",
          "height": 38
        },
        "id": "ZCHioPq3RYaf",
        "outputId": "c1d2b23f-5831-4257-8fe1-20fc9ca9e618"
      },
      "execution_count": 13,
      "outputs": [
        {
          "output_type": "execute_result",
          "data": {
            "text/latex": "$\\displaystyle x^{3} - 3 x^{2} + 3 x$",
            "text/plain": [
              "x**3 - 3*x**2 + 3*x"
            ]
          },
          "metadata": {},
          "execution_count": 13
        }
      ]
    },
    {
      "cell_type": "markdown",
      "source": [
        "## 2. Integral dari 8*x**3-x**2+5*x-1"
      ],
      "metadata": {
        "id": "Ig3MaDwqNIem"
      }
    },
    {
      "cell_type": "markdown",
      "source": [
        "### Numeric - Fungsi"
      ],
      "metadata": {
        "id": "R60kxsMoP6Z2"
      }
    },
    {
      "cell_type": "code",
      "source": [
        "from scipy import integrate\n",
        "\n",
        "def f(x):\n",
        "  return 8*x**3-x**2+5*x-1\n",
        "  \n",
        "A = integrate.quad(f,1,8)\n",
        "print(A)"
      ],
      "metadata": {
        "colab": {
          "base_uri": "https://localhost:8080/"
        },
        "id": "v95PoTmYNH_G",
        "outputId": "43bfc1fd-89dc-4975-a436-1843cc90c8c3"
      },
      "execution_count": 10,
      "outputs": [
        {
          "output_type": "stream",
          "name": "stdout",
          "text": [
            "(8170.166666666666, 9.0707071483583e-11)\n"
          ]
        }
      ]
    },
    {
      "cell_type": "markdown",
      "source": [
        "### Numeric - Data/Array"
      ],
      "metadata": {
        "id": "t6aLOV62P8kY"
      }
    },
    {
      "cell_type": "code",
      "source": [
        "from scipy import integrate\n",
        "import numpy as np\n",
        "\n",
        "def f(x):\n",
        "  return 8*x**3-x**2+5*x-1\n",
        "\n",
        "x = np.linspace(1,8)\n",
        "y = f(x)\n",
        "\n",
        "A = integrate.trapz(y,x)\n",
        "A"
      ],
      "metadata": {
        "id": "158xNGysOh7D"
      },
      "execution_count": null,
      "outputs": []
    },
    {
      "cell_type": "markdown",
      "source": [
        "### Symbol"
      ],
      "metadata": {
        "id": "_J78negQSJWX"
      }
    },
    {
      "cell_type": "code",
      "source": [
        "import sympy as sy\n",
        "\n",
        "x = sy.Symbol('x')\n",
        "f = 8*x**3 - x**2 +5*x-1\n",
        "\n",
        "sy.integrate(f)"
      ],
      "metadata": {
        "colab": {
          "base_uri": "https://localhost:8080/",
          "height": 54
        },
        "id": "y4AZjBIsSI0l",
        "outputId": "7363216f-9fd6-4c52-87e7-bb213f275192"
      },
      "execution_count": 14,
      "outputs": [
        {
          "output_type": "execute_result",
          "data": {
            "text/latex": "$\\displaystyle 2 x^{4} - \\frac{x^{3}}{3} + \\frac{5 x^{2}}{2} - x$",
            "text/plain": [
              "2*x**4 - x**3/3 + 5*x**2/2 - x"
            ]
          },
          "metadata": {},
          "execution_count": 14
        }
      ]
    },
    {
      "cell_type": "code",
      "source": [
        ""
      ],
      "metadata": {
        "id": "ZWkHOeB3S5mL"
      },
      "execution_count": null,
      "outputs": []
    }
  ]
}