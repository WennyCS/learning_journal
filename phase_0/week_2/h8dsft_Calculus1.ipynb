{
  "nbformat": 4,
  "nbformat_minor": 0,
  "metadata": {
    "colab": {
      "name": "h8dsft_Calculus1.ipynb",
      "provenance": [],
      "collapsed_sections": []
    },
    "kernelspec": {
      "name": "python3",
      "display_name": "Python 3"
    },
    "language_info": {
      "name": "python"
    }
  },
  "cells": [
    {
      "cell_type": "markdown",
      "source": [
        "#Soal:\n",
        "\n",
        "Carilah Turunan dari:\n",
        "\n",
        "y = x**2 + 2*x +1 \n",
        "\n",
        "dan\n",
        "\n",
        "y = 4*x**3 - 3*x**2 + 2*x - 1"
      ],
      "metadata": {
        "id": "HejcwsU1-OHo"
      }
    },
    {
      "cell_type": "markdown",
      "source": [
        "## Jawaban 1"
      ],
      "metadata": {
        "id": "JXxAedE-AFYa"
      }
    },
    {
      "cell_type": "markdown",
      "source": [
        "### Symbolic"
      ],
      "metadata": {
        "id": "HUk9I6iIBDD8"
      }
    },
    {
      "cell_type": "code",
      "source": [
        "import sympy as sy"
      ],
      "metadata": {
        "id": "DkFAm1rCtV0-"
      },
      "execution_count": 53,
      "outputs": []
    },
    {
      "cell_type": "code",
      "source": [
        "x = sy.Symbol ('x')\n",
        "y = x**2 + 2*x +1"
      ],
      "metadata": {
        "id": "NoBD7krk98IM"
      },
      "execution_count": 52,
      "outputs": []
    },
    {
      "cell_type": "code",
      "source": [
        "y"
      ],
      "metadata": {
        "colab": {
          "base_uri": "https://localhost:8080/",
          "height": 38
        },
        "id": "POciFVwm_Wd0",
        "outputId": "05eb2dca-3b4b-4c16-ea0c-753913b8a761"
      },
      "execution_count": 49,
      "outputs": [
        {
          "output_type": "execute_result",
          "data": {
            "text/latex": "$\\displaystyle 4 x^{3} - 3 x^{2} + 2 x - 1$",
            "text/plain": [
              "4*x**3 - 3*x**2 + 2*x - 1"
            ]
          },
          "metadata": {},
          "execution_count": 49
        }
      ]
    },
    {
      "cell_type": "code",
      "source": [
        "y.diff()"
      ],
      "metadata": {
        "colab": {
          "base_uri": "https://localhost:8080/",
          "height": 38
        },
        "id": "K8nLtkLB_fwg",
        "outputId": "e4e0d49d-36a2-4240-866b-85bac29e6092"
      },
      "execution_count": 50,
      "outputs": [
        {
          "output_type": "execute_result",
          "data": {
            "text/latex": "$\\displaystyle 12 x^{2} - 6 x + 2$",
            "text/plain": [
              "12*x**2 - 6*x + 2"
            ]
          },
          "metadata": {},
          "execution_count": 50
        }
      ]
    },
    {
      "cell_type": "code",
      "source": [
        "y.diff().diff()"
      ],
      "metadata": {
        "colab": {
          "base_uri": "https://localhost:8080/",
          "height": 38
        },
        "id": "Gu92Ok1-_s-E",
        "outputId": "c07ea3d8-459f-4a2d-e31e-2053ba5fceff"
      },
      "execution_count": 51,
      "outputs": [
        {
          "output_type": "execute_result",
          "data": {
            "text/latex": "$\\displaystyle 24 x - 6$",
            "text/plain": [
              "24*x - 6"
            ]
          },
          "metadata": {},
          "execution_count": 51
        }
      ]
    },
    {
      "cell_type": "code",
      "source": [
        "y.diff().diff().diff()"
      ],
      "metadata": {
        "colab": {
          "base_uri": "https://localhost:8080/",
          "height": 37
        },
        "id": "gG1S4hFc_zin",
        "outputId": "3fcdec59-d151-4e89-817d-b33ce3482124"
      },
      "execution_count": 6,
      "outputs": [
        {
          "output_type": "execute_result",
          "data": {
            "text/latex": "$\\displaystyle 0$",
            "text/plain": [
              "0"
            ]
          },
          "metadata": {},
          "execution_count": 6
        }
      ]
    },
    {
      "cell_type": "markdown",
      "source": [
        "### Numeric"
      ],
      "metadata": {
        "id": "NNOjdqIABQ5k"
      }
    },
    {
      "cell_type": "code",
      "source": [
        "import numpy as np"
      ],
      "metadata": {
        "id": "gUfTP4pJBZnT"
      },
      "execution_count": 7,
      "outputs": []
    },
    {
      "cell_type": "code",
      "source": [
        "Y = X**2 + 2*X +1"
      ],
      "metadata": {
        "id": "LCECzN7zBeHj"
      },
      "execution_count": 36,
      "outputs": []
    },
    {
      "cell_type": "code",
      "source": [
        "X = np.linspace (-20,20)\n",
        "X"
      ],
      "metadata": {
        "colab": {
          "base_uri": "https://localhost:8080/"
        },
        "id": "bppC4F-OC6KC",
        "outputId": "4fc77d93-f525-4bdd-f30f-f6280decd915"
      },
      "execution_count": 37,
      "outputs": [
        {
          "output_type": "execute_result",
          "data": {
            "text/plain": [
              "array([-20.        , -19.18367347, -18.36734694, -17.55102041,\n",
              "       -16.73469388, -15.91836735, -15.10204082, -14.28571429,\n",
              "       -13.46938776, -12.65306122, -11.83673469, -11.02040816,\n",
              "       -10.20408163,  -9.3877551 ,  -8.57142857,  -7.75510204,\n",
              "        -6.93877551,  -6.12244898,  -5.30612245,  -4.48979592,\n",
              "        -3.67346939,  -2.85714286,  -2.04081633,  -1.2244898 ,\n",
              "        -0.40816327,   0.40816327,   1.2244898 ,   2.04081633,\n",
              "         2.85714286,   3.67346939,   4.48979592,   5.30612245,\n",
              "         6.12244898,   6.93877551,   7.75510204,   8.57142857,\n",
              "         9.3877551 ,  10.20408163,  11.02040816,  11.83673469,\n",
              "        12.65306122,  13.46938776,  14.28571429,  15.10204082,\n",
              "        15.91836735,  16.73469388,  17.55102041,  18.36734694,\n",
              "        19.18367347,  20.        ])"
            ]
          },
          "metadata": {},
          "execution_count": 37
        }
      ]
    },
    {
      "cell_type": "code",
      "source": [
        "Y"
      ],
      "metadata": {
        "colab": {
          "base_uri": "https://localhost:8080/"
        },
        "id": "vYni9fVGDUyt",
        "outputId": "fb995dc9-90d5-42dc-a5f9-b742c7f9bf08"
      },
      "execution_count": 10,
      "outputs": [
        {
          "output_type": "execute_result",
          "data": {
            "text/plain": [
              "array([3.61000000e+02, 3.30645981e+02, 3.01624740e+02, 2.73936277e+02,\n",
              "       2.47580591e+02, 2.22557684e+02, 1.98867555e+02, 1.76510204e+02,\n",
              "       1.55485631e+02, 1.35793836e+02, 1.17434819e+02, 1.00408580e+02,\n",
              "       8.47151187e+01, 7.03544357e+01, 5.73265306e+01, 4.56314036e+01,\n",
              "       3.52690546e+01, 2.62394835e+01, 1.85426905e+01, 1.21786756e+01,\n",
              "       7.14743857e+00, 3.44897959e+00, 1.08329863e+00, 5.03956685e-02,\n",
              "       3.50270721e-01, 1.98292378e+00, 4.94835485e+00, 9.24656393e+00,\n",
              "       1.48775510e+01, 2.18413161e+01, 3.01378592e+01, 3.97671803e+01,\n",
              "       5.07292795e+01, 6.30241566e+01, 7.66518117e+01, 9.16122449e+01,\n",
              "       1.07905456e+02, 1.25531445e+02, 1.44490212e+02, 1.64781758e+02,\n",
              "       1.86406081e+02, 2.09363182e+02, 2.33653061e+02, 2.59275718e+02,\n",
              "       2.86231154e+02, 3.14519367e+02, 3.44140358e+02, 3.75094127e+02,\n",
              "       4.07380675e+02, 4.41000000e+02])"
            ]
          },
          "metadata": {},
          "execution_count": 10
        }
      ]
    },
    {
      "cell_type": "code",
      "source": [
        "print(X.shape)\n",
        "print(Y.shape)"
      ],
      "metadata": {
        "colab": {
          "base_uri": "https://localhost:8080/"
        },
        "id": "II0ogK9ujqqH",
        "outputId": "07f54d34-e7f5-41d3-8e0d-eadd471cadec"
      },
      "execution_count": 12,
      "outputs": [
        {
          "output_type": "stream",
          "name": "stdout",
          "text": [
            "(50,)\n",
            "(50,)\n"
          ]
        }
      ]
    },
    {
      "cell_type": "code",
      "source": [
        "import matplotlib.pyplot as plt\n",
        "\n",
        "plt.plot (X,Y)"
      ],
      "metadata": {
        "colab": {
          "base_uri": "https://localhost:8080/",
          "height": 282
        },
        "id": "QzbcLjhQE5HS",
        "outputId": "f52ff9cb-194c-4989-e050-7b94a175cb59"
      },
      "execution_count": 13,
      "outputs": [
        {
          "output_type": "execute_result",
          "data": {
            "text/plain": [
              "[<matplotlib.lines.Line2D at 0x7f890408e250>]"
            ]
          },
          "metadata": {},
          "execution_count": 13
        },
        {
          "output_type": "display_data",
          "data": {
            "image/png": "[encoded data removed]",
            "text/plain": [
              "<Figure size 432x288 with 1 Axes>"
            ]
          },
          "metadata": {
            "needs_background": "light"
          }
        }
      ]
    },
    {
      "cell_type": "code",
      "source": [
        "matplotlib.pyplot?"
      ],
      "metadata": {
        "colab": {
          "base_uri": "https://localhost:8080/"
        },
        "id": "RhyyD_WlsM4Z",
        "outputId": "b20a2117-7745-43f4-894f-5afbbf93948c"
      },
      "execution_count": 38,
      "outputs": [
        {
          "output_type": "stream",
          "name": "stdout",
          "text": [
            "Object `matplotlib.pyplot` not found.\n"
          ]
        }
      ]
    },
    {
      "cell_type": "markdown",
      "source": [
        "#### Cara np.diff() / np.diff()"
      ],
      "metadata": {
        "id": "-F4nFnTQroxf"
      }
    },
    {
      "cell_type": "code",
      "source": [
        "df1=np.diff(Y)/np.diff(X)\n",
        "df1"
      ],
      "metadata": {
        "colab": {
          "base_uri": "https://localhost:8080/"
        },
        "id": "NBhQRjbEFHkf",
        "outputId": "933619da-2d03-4788-f2e2-f9885ff80a5f"
      },
      "execution_count": 24,
      "outputs": [
        {
          "output_type": "execute_result",
          "data": {
            "text/plain": [
              "array([-37.18367347, -35.55102041, -33.91836735, -32.28571429,\n",
              "       -30.65306122, -29.02040816, -27.3877551 , -25.75510204,\n",
              "       -24.12244898, -22.48979592, -20.85714286, -19.2244898 ,\n",
              "       -17.59183673, -15.95918367, -14.32653061, -12.69387755,\n",
              "       -11.06122449,  -9.42857143,  -7.79591837,  -6.16326531,\n",
              "        -4.53061224,  -2.89795918,  -1.26530612,   0.36734694,\n",
              "         2.        ,   3.63265306,   5.26530612,   6.89795918,\n",
              "         8.53061224,  10.16326531,  11.79591837,  13.42857143,\n",
              "        15.06122449,  16.69387755,  18.32653061,  19.95918367,\n",
              "        21.59183673,  23.2244898 ,  24.85714286,  26.48979592,\n",
              "        28.12244898,  29.75510204,  31.3877551 ,  33.02040816,\n",
              "        34.65306122,  36.28571429,  37.91836735,  39.55102041,\n",
              "        41.18367347])"
            ]
          },
          "metadata": {},
          "execution_count": 24
        }
      ]
    },
    {
      "cell_type": "code",
      "source": [
        "df1.shape"
      ],
      "metadata": {
        "colab": {
          "base_uri": "https://localhost:8080/"
        },
        "id": "4c1crKDiniYd",
        "outputId": "7d24e551-c06b-4508-eede-a179d73cf475"
      },
      "execution_count": 20,
      "outputs": [
        {
          "output_type": "execute_result",
          "data": {
            "text/plain": [
              "(49,)"
            ]
          },
          "metadata": {},
          "execution_count": 20
        }
      ]
    },
    {
      "cell_type": "code",
      "source": [
        "plt.plot(X[1:],df1)"
      ],
      "metadata": {
        "colab": {
          "base_uri": "https://localhost:8080/",
          "height": 282
        },
        "id": "amdmdb7Bnwnm",
        "outputId": "189e3ad3-e3d6-4654-a7cb-bb3321e02a4f"
      },
      "execution_count": 23,
      "outputs": [
        {
          "output_type": "execute_result",
          "data": {
            "text/plain": [
              "[<matplotlib.lines.Line2D at 0x7f88ff987110>]"
            ]
          },
          "metadata": {},
          "execution_count": 23
        },
        {
          "output_type": "display_data",
          "data": {
            "image/png": "[encoded data removed]",
            "text/plain": [
              "<Figure size 432x288 with 1 Axes>"
            ]
          },
          "metadata": {
            "needs_background": "light"
          }
        }
      ]
    },
    {
      "cell_type": "markdown",
      "source": [
        "### Cara np.gradient ( , )"
      ],
      "metadata": {
        "id": "EvlSYpbosqqP"
      }
    },
    {
      "cell_type": "code",
      "source": [
        "df2=np.gradient (Y,X)\n",
        "df2"
      ],
      "metadata": {
        "colab": {
          "base_uri": "https://localhost:8080/"
        },
        "id": "nEkUX5JRoDCn",
        "outputId": "5769fd62-ec98-4050-ba33-5ac44b463498"
      },
      "execution_count": 26,
      "outputs": [
        {
          "output_type": "execute_result",
          "data": {
            "text/plain": [
              "array([-37.18367347, -36.36734694, -34.73469388, -33.10204082,\n",
              "       -31.46938776, -29.83673469, -28.20408163, -26.57142857,\n",
              "       -24.93877551, -23.30612245, -21.67346939, -20.04081633,\n",
              "       -18.40816327, -16.7755102 , -15.14285714, -13.51020408,\n",
              "       -11.87755102, -10.24489796,  -8.6122449 ,  -6.97959184,\n",
              "        -5.34693878,  -3.71428571,  -2.08163265,  -0.44897959,\n",
              "         1.18367347,   2.81632653,   4.44897959,   6.08163265,\n",
              "         7.71428571,   9.34693878,  10.97959184,  12.6122449 ,\n",
              "        14.24489796,  15.87755102,  17.51020408,  19.14285714,\n",
              "        20.7755102 ,  22.40816327,  24.04081633,  25.67346939,\n",
              "        27.30612245,  28.93877551,  30.57142857,  32.20408163,\n",
              "        33.83673469,  35.46938776,  37.10204082,  38.73469388,\n",
              "        40.36734694,  41.18367347])"
            ]
          },
          "metadata": {},
          "execution_count": 26
        }
      ]
    },
    {
      "cell_type": "code",
      "source": [
        "df2.shape"
      ],
      "metadata": {
        "colab": {
          "base_uri": "https://localhost:8080/"
        },
        "id": "OOq1JKB-oH1n",
        "outputId": "93b95a34-4d90-46f7-d6f0-4b8a40a691b2"
      },
      "execution_count": 27,
      "outputs": [
        {
          "output_type": "execute_result",
          "data": {
            "text/plain": [
              "(50,)"
            ]
          },
          "metadata": {},
          "execution_count": 27
        }
      ]
    },
    {
      "cell_type": "code",
      "source": [
        "plt.plot(X,df2)"
      ],
      "metadata": {
        "colab": {
          "base_uri": "https://localhost:8080/",
          "height": 282
        },
        "id": "jt6gaCPBoOat",
        "outputId": "cd4b8592-301a-4bcd-f1c6-16d454ba20c9"
      },
      "execution_count": 28,
      "outputs": [
        {
          "output_type": "execute_result",
          "data": {
            "text/plain": [
              "[<matplotlib.lines.Line2D at 0x7f88ff2f9cd0>]"
            ]
          },
          "metadata": {},
          "execution_count": 28
        },
        {
          "output_type": "display_data",
          "data": {
            "image/png": "[encoded data removed]",
            "text/plain": [
              "<Figure size 432x288 with 1 Axes>"
            ]
          },
          "metadata": {
            "needs_background": "light"
          }
        }
      ]
    },
    {
      "cell_type": "code",
      "source": [
        "np.diff?"
      ],
      "metadata": {
        "id": "9OELMfq5lJeH"
      },
      "execution_count": 15,
      "outputs": []
    },
    {
      "cell_type": "code",
      "source": [
        "np.gradient?"
      ],
      "metadata": {
        "id": "KJFon4bCm3Pm"
      },
      "execution_count": 16,
      "outputs": []
    },
    {
      "cell_type": "code",
      "source": [
        "np.linspace?"
      ],
      "metadata": {
        "id": "Zuk42cwBpNIS"
      },
      "execution_count": 29,
      "outputs": []
    },
    {
      "cell_type": "markdown",
      "source": [
        "## Jawaban 2"
      ],
      "metadata": {
        "id": "xqPBg4qwAbOr"
      }
    },
    {
      "cell_type": "markdown",
      "source": [
        "### Symbolic"
      ],
      "metadata": {
        "id": "IIJfkFswBLud"
      }
    },
    {
      "cell_type": "code",
      "source": [
        "import sympy as sy"
      ],
      "metadata": {
        "id": "UmEHjCM0thXr"
      },
      "execution_count": 54,
      "outputs": []
    },
    {
      "cell_type": "code",
      "source": [
        "\n",
        "y = 4*x**3 - 3*x**2 + 2*x - 1\n",
        "y"
      ],
      "metadata": {
        "colab": {
          "base_uri": "https://localhost:8080/",
          "height": 38
        },
        "id": "wRtJNB3N_4wb",
        "outputId": "ffc56062-5d34-48ff-de9e-d37a9c3fe894"
      },
      "execution_count": 58,
      "outputs": [
        {
          "output_type": "execute_result",
          "data": {
            "text/latex": "$\\displaystyle 4 x^{3} - 3 x^{2} + 2 x - 1$",
            "text/plain": [
              "4*x**3 - 3*x**2 + 2*x - 1"
            ]
          },
          "metadata": {},
          "execution_count": 58
        }
      ]
    },
    {
      "cell_type": "code",
      "source": [
        "y.diff()"
      ],
      "metadata": {
        "colab": {
          "base_uri": "https://localhost:8080/",
          "height": 38
        },
        "id": "2_GMi2ZWAzQa",
        "outputId": "77b727fa-0bfc-482e-c0a0-1326e1bb3d82"
      },
      "execution_count": 41,
      "outputs": [
        {
          "output_type": "execute_result",
          "data": {
            "text/latex": "$\\displaystyle 12 x^{2} - 6 x + 2$",
            "text/plain": [
              "12*x**2 - 6*x + 2"
            ]
          },
          "metadata": {},
          "execution_count": 41
        }
      ]
    },
    {
      "cell_type": "code",
      "source": [
        "y.diff().diff()"
      ],
      "metadata": {
        "colab": {
          "base_uri": "https://localhost:8080/",
          "height": 38
        },
        "id": "k68ZjEo5A4oC",
        "outputId": "fbf92e1e-9deb-4472-a4ab-cca71d22870d"
      },
      "execution_count": 42,
      "outputs": [
        {
          "output_type": "execute_result",
          "data": {
            "text/latex": "$\\displaystyle 24 x - 6$",
            "text/plain": [
              "24*x - 6"
            ]
          },
          "metadata": {},
          "execution_count": 42
        }
      ]
    },
    {
      "cell_type": "code",
      "source": [
        "y.diff().diff().diff()"
      ],
      "metadata": {
        "colab": {
          "base_uri": "https://localhost:8080/",
          "height": 37
        },
        "id": "3ZGath_JA8nB",
        "outputId": "fe69d29c-8b81-44c7-a0e4-a055aabeef71"
      },
      "execution_count": 60,
      "outputs": [
        {
          "output_type": "execute_result",
          "data": {
            "text/latex": "$\\displaystyle 24$",
            "text/plain": [
              "24"
            ]
          },
          "metadata": {},
          "execution_count": 60
        }
      ]
    },
    {
      "cell_type": "code",
      "source": [
        "y.diff().diff().diff().diff()"
      ],
      "metadata": {
        "colab": {
          "base_uri": "https://localhost:8080/",
          "height": 37
        },
        "id": "u425sNsat3QH",
        "outputId": "65de2b40-a0fd-45f1-b62c-aad7d9011f99"
      },
      "execution_count": 61,
      "outputs": [
        {
          "output_type": "execute_result",
          "data": {
            "text/latex": "$\\displaystyle 0$",
            "text/plain": [
              "0"
            ]
          },
          "metadata": {},
          "execution_count": 61
        }
      ]
    },
    {
      "cell_type": "markdown",
      "source": [
        "### Numeric"
      ],
      "metadata": {
        "id": "dslocVj9pfxc"
      }
    },
    {
      "cell_type": "code",
      "source": [
        "import numpy as np\n"
      ],
      "metadata": {
        "id": "gh4CQE_VBAqc"
      },
      "execution_count": 71,
      "outputs": []
    },
    {
      "cell_type": "code",
      "source": [
        "Y = 4*X**3 - 3*X**2 + 2*X - 1"
      ],
      "metadata": {
        "id": "6iLQ2xQZpwA6"
      },
      "execution_count": 76,
      "outputs": []
    },
    {
      "cell_type": "code",
      "source": [
        "X = np.linspace(-20,20)\n",
        "X"
      ],
      "metadata": {
        "colab": {
          "base_uri": "https://localhost:8080/"
        },
        "id": "5ZOknA3fqBvr",
        "outputId": "471e570e-0916-4730-bab7-abba6d1a0905"
      },
      "execution_count": 82,
      "outputs": [
        {
          "output_type": "execute_result",
          "data": {
            "text/plain": [
              "array([-20.        , -19.18367347, -18.36734694, -17.55102041,\n",
              "       -16.73469388, -15.91836735, -15.10204082, -14.28571429,\n",
              "       -13.46938776, -12.65306122, -11.83673469, -11.02040816,\n",
              "       -10.20408163,  -9.3877551 ,  -8.57142857,  -7.75510204,\n",
              "        -6.93877551,  -6.12244898,  -5.30612245,  -4.48979592,\n",
              "        -3.67346939,  -2.85714286,  -2.04081633,  -1.2244898 ,\n",
              "        -0.40816327,   0.40816327,   1.2244898 ,   2.04081633,\n",
              "         2.85714286,   3.67346939,   4.48979592,   5.30612245,\n",
              "         6.12244898,   6.93877551,   7.75510204,   8.57142857,\n",
              "         9.3877551 ,  10.20408163,  11.02040816,  11.83673469,\n",
              "        12.65306122,  13.46938776,  14.28571429,  15.10204082,\n",
              "        15.91836735,  16.73469388,  17.55102041,  18.36734694,\n",
              "        19.18367347,  20.        ])"
            ]
          },
          "metadata": {},
          "execution_count": 82
        }
      ]
    },
    {
      "cell_type": "code",
      "source": [
        "Y"
      ],
      "metadata": {
        "colab": {
          "base_uri": "https://localhost:8080/"
        },
        "id": "_XMfedDUqapW",
        "outputId": "824b78d1-bbc8-4af4-fe88-eb6f8a647103"
      },
      "execution_count": 77,
      "outputs": [
        {
          "output_type": "execute_result",
          "data": {
            "text/plain": [
              "array([-3.32410000e+04, -2.93827974e+04, -2.58354040e+04, -2.25857642e+04,\n",
              "       -1.96208220e+04, -1.69275218e+04, -1.44928077e+04, -1.23036239e+04,\n",
              "       -1.03469147e+04, -8.60962430e+03, -7.07869688e+03, -5.74107667e+03,\n",
              "       -4.58370789e+03, -3.59353474e+03, -2.75750146e+03, -2.06255224e+03,\n",
              "       -1.49563132e+03, -1.04368290e+03, -6.93651191e+02, -4.32480421e+02,\n",
              "       -2.47114799e+02, -1.24498542e+02, -5.15758655e+01, -1.52909842e+01,\n",
              "       -2.58811380e+00, -4.11469711e-01,  4.29473264e+00,  2.45862778e+01,\n",
              "        7.35189504e+01,  1.64148535e+02,  3.09530816e+02,  5.22721579e+02,\n",
              "        8.16776607e+02,  1.20475169e+03,  1.69970260e+03,  2.31468513e+03,\n",
              "        3.06275507e+03,  3.95696819e+03,  5.01038029e+03,  6.23604715e+03,\n",
              "        7.64702455e+03,  9.25636827e+03,  1.10771341e+04,  1.31223778e+04,\n",
              "        1.54051553e+04,  1.79385221e+04,  2.07355343e+04,  2.38092474e+04,\n",
              "        2.71727174e+04,  3.08390000e+04])"
            ]
          },
          "metadata": {},
          "execution_count": 77
        }
      ]
    },
    {
      "cell_type": "code",
      "source": [
        "print (X.shape)\n",
        "print (Y.shape)"
      ],
      "metadata": {
        "colab": {
          "base_uri": "https://localhost:8080/"
        },
        "id": "bwYu5MgLqhhJ",
        "outputId": "adf7644f-ed7f-4257-80ec-48679e56a23a"
      },
      "execution_count": 78,
      "outputs": [
        {
          "output_type": "stream",
          "name": "stdout",
          "text": [
            "(50,)\n",
            "(50,)\n"
          ]
        }
      ]
    },
    {
      "cell_type": "code",
      "source": [
        "import matplotlib.pyplot as plt\n",
        "\n",
        "plt.plot(X,Y)"
      ],
      "metadata": {
        "colab": {
          "base_uri": "https://localhost:8080/",
          "height": 282
        },
        "id": "BE7jppRMqxVz",
        "outputId": "6bbc73cc-a074-4a49-bfaa-9fa108e7b3b1"
      },
      "execution_count": 88,
      "outputs": [
        {
          "output_type": "execute_result",
          "data": {
            "text/plain": [
              "[<matplotlib.lines.Line2D at 0x7f88ff01bad0>]"
            ]
          },
          "metadata": {},
          "execution_count": 88
        },
        {
          "output_type": "display_data",
          "data": {
            "image/png": "[encoded data removed]",
            "text/plain": [
              "<Figure size 432x288 with 1 Axes>"
            ]
          },
          "metadata": {
            "needs_background": "light"
          }
        }
      ]
    },
    {
      "cell_type": "markdown",
      "source": [
        "### Cara np.diff ()/np.diff ()"
      ],
      "metadata": {
        "id": "Tbqe0Apcukbn"
      }
    },
    {
      "cell_type": "code",
      "source": [
        "df1 = np.diff (Y)/ np.diff (X)\n",
        "df1"
      ],
      "metadata": {
        "id": "WFLDDc9Mu-d8"
      },
      "execution_count": null,
      "outputs": []
    },
    {
      "cell_type": "code",
      "source": [
        "plt.plot(X[1:],df1)"
      ],
      "metadata": {
        "id": "OceIOPuvvKAm"
      },
      "execution_count": null,
      "outputs": []
    },
    {
      "cell_type": "markdown",
      "source": [
        "### Cara Gradient"
      ],
      "metadata": {
        "id": "-LNsVP2luCXR"
      }
    },
    {
      "cell_type": "code",
      "source": [
        "df2 = np.gradient (X,Y)\n",
        "df2"
      ],
      "metadata": {
        "colab": {
          "base_uri": "https://localhost:8080/"
        },
        "id": "3pIQTyJAu0v2",
        "outputId": "46e83d61-e59b-4282-ee4a-8d2bd0378af1"
      },
      "execution_count": 85,
      "outputs": [
        {
          "output_type": "execute_result",
          "data": {
            "text/plain": [
              "array([2.11582079e-04, 2.21240108e-04, 2.41124500e-04, 2.63818269e-04,\n",
              "       2.89877344e-04, 3.20002467e-04, 3.55087014e-04, 3.96284310e-04,\n",
              "       4.45104141e-04, 5.03553892e-04, 5.74349593e-04, 6.61239552e-04,\n",
              "       7.69515033e-04, 9.06842909e-04, 1.08467595e-03, 1.32075049e-03,\n",
              "       1.64375189e-03, 2.10261106e-03, 2.78657829e-03, 3.87325529e-03,\n",
              "       5.76031057e-03, 9.50248060e-03, 1.87421163e-02, 5.34330784e-02,\n",
              "       3.29577317e-01, 3.11290557e-01, 1.48375471e-01, 3.33275343e-02,\n",
              "       1.39915476e-02, 7.70464627e-03, 4.89092894e-03, 3.38652823e-03,\n",
              "       2.48635698e-03, 1.90423836e-03, 1.50575916e-03, 1.22084972e-03,\n",
              "       1.01000668e-03, 8.49556023e-04, 7.24596740e-04, 6.25364091e-04,\n",
              "       5.45239696e-04, 4.79607337e-04, 4.25166882e-04, 3.79507909e-04,\n",
              "       3.40836346e-04, 3.07794403e-04, 2.79339071e-04, 2.54658368e-04,\n",
              "       2.33112500e-04, 2.22657832e-04])"
            ]
          },
          "metadata": {},
          "execution_count": 85
        }
      ]
    },
    {
      "cell_type": "code",
      "source": [
        "plt.plot(X,df2)"
      ],
      "metadata": {
        "colab": {
          "base_uri": "https://localhost:8080/",
          "height": 282
        },
        "id": "uBxTtGE3wCLm",
        "outputId": "48bbcd73-4f6f-48b4-fb1b-c6d78f5f62b7"
      },
      "execution_count": 87,
      "outputs": [
        {
          "output_type": "execute_result",
          "data": {
            "text/plain": [
              "[<matplotlib.lines.Line2D at 0x7f88ff0b1590>]"
            ]
          },
          "metadata": {},
          "execution_count": 87
        },
        {
          "output_type": "display_data",
          "data": {
            "image/png": "[encoded data removed]",
            "text/plain": [
              "<Figure size 432x288 with 1 Axes>"
            ]
          },
          "metadata": {
            "needs_background": "light"
          }
        }
      ]
    },
    {
      "cell_type": "code",
      "source": [
        ""
      ],
      "metadata": {
        "id": "ViBYfentwO2G"
      },
      "execution_count": null,
      "outputs": []
    }
  ]
}