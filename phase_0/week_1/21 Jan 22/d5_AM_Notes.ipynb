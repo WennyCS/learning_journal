{
 "cells": [
  {
   "cell_type": "markdown",
   "metadata": {},
   "source": []
  },
  {
   "cell_type": "markdown",
   "metadata": {},
   "source": [
    "# Kisi-Kisi"
   ]
  },
  {
   "cell_type": "markdown",
   "metadata": {},
   "source": [
    "Anomali = nilai jauh dari range <br>\n",
    "Missing Data = data hilang, ada baris2 tanpa data, data hilang, ditulis Nan -- Not a Number <br>\n",
    "Missing Data bisa di isi menggunakan data lain atau di drop <br>\n",
    "Kolum yang gak penting juga bisa di drop <br>\n",
    "\n",
    "Beda perusahaan bisa beda bahasa ataupun beda tools\n"
   ]
  }
 ],
 "metadata": {
  "interpreter": {
   "hash": "16d585b2b6fd9b768cbbc82e697d03f4f72ca8738313edbb48a7607ea27d59db"
  },
  "kernelspec": {
   "display_name": "Python 3.9.7 64-bit ('base': conda)",
   "language": "python",
   "name": "python3"
  },
  "language_info": {
   "codemirror_mode": {
    "name": "ipython",
    "version": 3
   },
   "file_extension": ".py",
   "mimetype": "text/x-python",
   "name": "python",
   "nbconvert_exporter": "python",
   "pygments_lexer": "ipython3",
   "version": "3.9.7"
  },
  "orig_nbformat": 4
 },
 "nbformat": 4,
 "nbformat_minor": 2
}
