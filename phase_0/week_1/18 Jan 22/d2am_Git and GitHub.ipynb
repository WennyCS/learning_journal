{
 "cells": [
  {
   "cell_type": "markdown",
   "metadata": {},
   "source": [
    "# Git and GitHub"
   ]
  },
  {
   "cell_type": "markdown",
   "metadata": {},
   "source": [
    "## Sign up GitHub"
   ]
  },
  {
   "cell_type": "markdown",
   "metadata": {},
   "source": [
    "## Setting"
   ]
  },
  {
   "cell_type": "markdown",
   "metadata": {},
   "source": [
    "Cmd\n",
    "git config --globaluser.name 'Wenny C Sari'\n",
    "git config --globaluser.email 'wennychandrasari@gmail.com'\n",
    "ssh_keygen (di Cmd atau Gitbash)\n",
    "\n",
    "File\n",
    "User> Wenny> (folder) .ssh>id_rsa.pub (buka dengan notepad --> copy isinya)\n",
    "Masuk ke github(web)> setting> SSH and GPG Keys>new ssh keys (paste yg sblumnya)\n",
    "(title terserah boleh Laptop Asus, etc)\n",
    "\n",
    "Cmd\n",
    "git init --> untuk menyambungkan git dan git hub\n",
    "git status (untracked file --> file yang belum ada di repository)\n",
    "git pull --> menarik perubahan dari repos\n",
    "git add . atau git add (nama/lokasi folder)(mis phase 0/week1/day12/halo.py)\n",
    "git comment -m 'komentar'\n",
    "\n",
    "(web git --> pertama kali saja)\n",
    "copy dari ssh repository>learning journal>code>SSH dan tempel per baris di cmd\n",
    "Cmd\n",
    "git branch -M main\n",
    "git remote add origin@github.com: ................\n",
    "git push -u origin main\n",
    "Yes!\n",
    "\n",
    "Git adalah bus/teknologinya -- menghubungkan laptop dengan Github\n",
    "Github adalah beragam merek dari bus/teknologi -- tempat menyimpan data \n",
    "\n",
    "Cmd\n",
    "git push\n",
    "\n",
    "Latihan add, commit, push menggunakan halo, coba, script\n",
    "\n",
    "Membuat branch\n",
    "cmd\n",
    "git branch\n",
    "git branch pinjaman (di git sudah di git hub belum)\n",
    "git branch (di git sudah ada namun yang aktif masih branch main)\n",
    "\n",
    "Pindah ke branch pinjaman\n",
    "git checkout pinjaman\n",
    "git branch (check)\n",
    "\n",
    "M - Modified\n",
    "\n",
    "Push ke branch pinjaman\n",
    "git status\n",
    "git add .\n",
    "git commit -m 'commit ke branch pinjaman'\n",
    "git push origin pinjaman"
   ]
  }
 ],
 "metadata": {
  "language_info": {
   "name": "python"
  },
  "orig_nbformat": 4
 },
 "nbformat": 4,
 "nbformat_minor": 2
}
