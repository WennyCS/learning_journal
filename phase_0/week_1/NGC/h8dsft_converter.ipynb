{
 "cells": [
  {
   "cell_type": "code",
   "execution_count": 1,
   "metadata": {},
   "outputs": [],
   "source": [
    "# Soal\n",
    "\n",
    "# latihan function - konsep dan kerangka, kemampuan mendefinisikan dan mengimplementasi function\n",
    "# Function mengonversi kelvin ke celcius dan celcius dan kelvin\n",
    "# Function mengonversi suhu ke farenheit dan parameter bahwa argumen yang dimasukkan harus celcius atau kelvin\n",
    "# Function mengonversi suhu dari farenheit dan argumen untuk memastikan outputnya adalah celcius atau kelvin\n",
    "# beri dokumentasi dari setiap baris kode\n",
    "# simpan assignment dengan nama h8dsft_converter\n",
    "# push assignment ke akun github masing2"
   ]
  },
  {
   "cell_type": "markdown",
   "metadata": {},
   "source": [
    "# Kelvin ke Celcius"
   ]
  },
  {
   "cell_type": "code",
   "execution_count": 7,
   "metadata": {},
   "outputs": [
    {
     "name": "stdout",
     "output_type": "stream",
     "text": [
      "27\n"
     ]
    }
   ],
   "source": [
    "def convert_kelvin_to_celcius(kelvin):\n",
    "    celcius = kelvin-273\n",
    "    return celcius\n",
    "print(convert_kelvin_to_celcius(300))"
   ]
  },
  {
   "cell_type": "markdown",
   "metadata": {},
   "source": [
    "# Celcius ke Kelvin"
   ]
  },
  {
   "cell_type": "code",
   "execution_count": 8,
   "metadata": {},
   "outputs": [
    {
     "name": "stdout",
     "output_type": "stream",
     "text": [
      "573\n"
     ]
    }
   ],
   "source": [
    "def convert_kelvin_to_celcius(celcius):\n",
    "    kelvin = celcius+273\n",
    "    return kelvin\n",
    "print(convert_kelvin_to_celcius(300))"
   ]
  },
  {
   "cell_type": "markdown",
   "metadata": {},
   "source": [
    "# Ke Fahrenheit"
   ]
  },
  {
   "cell_type": "code",
   "execution_count": 14,
   "metadata": {},
   "outputs": [
    {
     "name": "stdout",
     "output_type": "stream",
     "text": [
      "20 C ke Fahrenheit = 68.0 F\n",
      "266 K ke Fahrenheit = 19.4 F\n"
     ]
    }
   ],
   "source": [
    "def convert_celcius_to_fahrenheit(celcius):\n",
    "    return (celcius*9/5) +32\n",
    "\n",
    "def convert_kelvin_to_fahrenheit(kelvin):\n",
    "    return (kelvin-273)*9/5 + 32\n",
    "\n",
    "def convert_celcius_or_kelvin_to_fahrenheit (temperature, satuan):\n",
    "    if satuan == 'kelvin':\n",
    "        return convert_kelvin_to_fahrenheit(temperature)\n",
    "    elif satuan == 'celcius':\n",
    "        return convert_celcius_to_fahrenheit(temperature)\n",
    "    else:\n",
    "        return satuan\n",
    "\n",
    "f1 = convert_celcius_or_kelvin_to_fahrenheit(20, 'celcius')\n",
    "print(f'20 C ke Fahrenheit = {f1} F')\n",
    "f2 = convert_celcius_or_kelvin_to_fahrenheit(266, 'kelvin')\n",
    "print(f'266 K ke Fahrenheit = {f2} F')"
   ]
  },
  {
   "cell_type": "markdown",
   "metadata": {},
   "source": [
    "# Dari Fahrenheit"
   ]
  },
  {
   "cell_type": "code",
   "execution_count": 3,
   "metadata": {},
   "outputs": [
    {
     "name": "stdout",
     "output_type": "stream",
     "text": [
      "40 F ke Celcius = 277.44444444444446 F\n",
      "20 F ke Kelvin = 266.3333333333333 F\n"
     ]
    }
   ],
   "source": [
    "def convert_fahrenheit_to_celcius(fahrenheit):\n",
    "    return (fahrenheit*5/9) - 32\n",
    "\n",
    "def convert_fahrenheit_to_kelvin(fahrenheit):\n",
    "    return (fahrenheit-32)*5/9 + 273\n",
    "\n",
    "def convert_fahrenheit_to_celcius_or_kelvin (temperature, satuan):\n",
    "    if satuan == 'celcius':\n",
    "        return convert_fahrenheit_to_kelvin(temperature)\n",
    "    elif satuan == 'kelvin':\n",
    "        return convert_fahrenheit_to_kelvin(temperature)\n",
    "    else:\n",
    "        return satuan\n",
    "\n",
    "c = convert_fahrenheit_to_celcius_or_kelvin(40, 'celcius')\n",
    "print(f'40 F ke Celcius = {c} F')\n",
    "k = convert_fahrenheit_to_celcius_or_kelvin(20, 'kelvin')\n",
    "print(f'20 F ke Kelvin = {k} F')"
   ]
  }
 ],
 "metadata": {
  "interpreter": {
   "hash": "16d585b2b6fd9b768cbbc82e697d03f4f72ca8738313edbb48a7607ea27d59db"
  },
  "kernelspec": {
   "display_name": "Python 3.9.7 64-bit ('base': conda)",
   "language": "python",
   "name": "python3"
  },
  "language_info": {
   "codemirror_mode": {
    "name": "ipython",
    "version": 3
   },
   "file_extension": ".py",
   "mimetype": "text/x-python",
   "name": "python",
   "nbconvert_exporter": "python",
   "pygments_lexer": "ipython3",
   "version": "3.9.7"
  },
  "orig_nbformat": 4
 },
 "nbformat": 4,
 "nbformat_minor": 2
}
