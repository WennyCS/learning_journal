{
  "nbformat": 4,
  "nbformat_minor": 0,
  "metadata": {
    "colab": {
      "name": "d2pm-looping.ipynb",
      "provenance": [],
      "collapsed_sections": []
    },
    "kernelspec": {
      "name": "python3",
      "display_name": "Python 3"
    },
    "language_info": {
      "name": "python"
    }
  },
  "cells": [
    {
      "cell_type": "code",
      "execution_count": 8,
      "metadata": {
        "id": "Sebp2nAvCAew"
      },
      "outputs": [],
      "source": [
        "angka = 15"
      ]
    },
    {
      "cell_type": "code",
      "source": [
        "angka"
      ],
      "metadata": {
        "colab": {
          "base_uri": "https://localhost:8080/"
        },
        "id": "CmKOS3kTDQWD",
        "outputId": "7be2b273-cab4-406b-fc8c-7a75221ab8f4"
      },
      "execution_count": 9,
      "outputs": [
        {
          "output_type": "execute_result",
          "data": {
            "text/plain": [
              "15"
            ]
          },
          "metadata": {},
          "execution_count": 9
        }
      ]
    },
    {
      "cell_type": "code",
      "source": [
        "5 == 5"
      ],
      "metadata": {
        "colab": {
          "base_uri": "https://localhost:8080/"
        },
        "id": "SofKNQCTDicF",
        "outputId": "eb4b853f-db04-4031-f716-404a040fe65f"
      },
      "execution_count": 10,
      "outputs": [
        {
          "output_type": "execute_result",
          "data": {
            "text/plain": [
              "True"
            ]
          },
          "metadata": {},
          "execution_count": 10
        }
      ]
    },
    {
      "cell_type": "code",
      "source": [
        "angka == 15"
      ],
      "metadata": {
        "colab": {
          "base_uri": "https://localhost:8080/"
        },
        "id": "cq91MSaUD8Nn",
        "outputId": "7af12431-04ff-4e0c-f075-13eb373b6acd"
      },
      "execution_count": 11,
      "outputs": [
        {
          "output_type": "execute_result",
          "data": {
            "text/plain": [
              "True"
            ]
          },
          "metadata": {},
          "execution_count": 11
        }
      ]
    },
    {
      "cell_type": "code",
      "source": [
        "angka = 12\n",
        "print(f\"{angka} lebih besar dari 10\")\n"
      ],
      "metadata": {
        "colab": {
          "base_uri": "https://localhost:8080/"
        },
        "id": "llZhidmEEmmo",
        "outputId": "5f3be9f4-c90c-4c26-b653-371c8d6f7f46"
      },
      "execution_count": 13,
      "outputs": [
        {
          "output_type": "stream",
          "name": "stdout",
          "text": [
            "12 lebih besar dari 10\n"
          ]
        }
      ]
    },
    {
      "cell_type": "code",
      "source": [
        "angka = 8\n",
        "angka > 10"
      ],
      "metadata": {
        "colab": {
          "base_uri": "https://localhost:8080/"
        },
        "id": "68U9WScZFrdS",
        "outputId": "5139c647-c74e-438c-ffa8-e31080e67a7b"
      },
      "execution_count": 14,
      "outputs": [
        {
          "output_type": "execute_result",
          "data": {
            "text/plain": [
              "False"
            ]
          },
          "metadata": {},
          "execution_count": 14
        }
      ]
    },
    {
      "cell_type": "code",
      "source": [
        "angka = 15\n",
        "if angka > 10:\n",
        "  print (f\"{angka} lebih besar dari 10\")"
      ],
      "metadata": {
        "colab": {
          "base_uri": "https://localhost:8080/"
        },
        "id": "AZGrdVuTF1kj",
        "outputId": "6d5dd539-0578-448b-8c7e-17c0147f90af"
      },
      "execution_count": 17,
      "outputs": [
        {
          "output_type": "stream",
          "name": "stdout",
          "text": [
            "15 lebih besar dari 10\n"
          ]
        }
      ]
    },
    {
      "cell_type": "code",
      "source": [
        "angka = 9\n",
        "if angka > 10:\n",
        "  print (f\"{angka} lebih besar dari 10\")"
      ],
      "metadata": {
        "id": "4LrQB87-GxCe"
      },
      "execution_count": 23,
      "outputs": []
    },
    {
      "cell_type": "code",
      "source": [
        "angka = 9\n",
        "if angka > 10:\n",
        "  print (f\"{angka} lebih besar dari 10\")\n",
        "  print (\"Ini masih di dalam kondisi if\")\n",
        "else:\n",
        "  print(f\"{angka} lebih kecil dari 10\")\n",
        "print (\"ini di luar if\")"
      ],
      "metadata": {
        "colab": {
          "base_uri": "https://localhost:8080/"
        },
        "id": "Gj0QpHWxGD-X",
        "outputId": "685e58e2-1155-4d8d-d9e6-e8846e3c3aae"
      },
      "execution_count": 25,
      "outputs": [
        {
          "output_type": "stream",
          "name": "stdout",
          "text": [
            "9 lebih kecil dari 10\n",
            "ini di luar if\n"
          ]
        }
      ]
    },
    {
      "cell_type": "code",
      "source": [
        "angka = 11\n",
        "if angka > 10:\n",
        "  print (f\"{angka} lebih besar dari 10\")\n",
        "print (\"Ini di luar kondisi if\")"
      ],
      "metadata": {
        "colab": {
          "base_uri": "https://localhost:8080/"
        },
        "id": "5Okk6dktGTfu",
        "outputId": "df602070-f989-40c2-fe93-5bdb4d192b19"
      },
      "execution_count": 21,
      "outputs": [
        {
          "output_type": "stream",
          "name": "stdout",
          "text": [
            "11 lebih besar dari 10\n",
            "Ini di luar kondisi if\n"
          ]
        }
      ]
    },
    {
      "cell_type": "code",
      "source": [
        "angka = 9\n",
        "if angka > 10:\n",
        "  print (f\"{angka} lebih besar dari 10\")\n",
        "print (\"Ini di luar kondisi if\")"
      ],
      "metadata": {
        "colab": {
          "base_uri": "https://localhost:8080/"
        },
        "id": "iXMSdFnEGrd1",
        "outputId": "39374ddf-9ec5-4926-d818-77e371751e1a"
      },
      "execution_count": 22,
      "outputs": [
        {
          "output_type": "stream",
          "name": "stdout",
          "text": [
            "Ini di luar kondisi if\n"
          ]
        }
      ]
    },
    {
      "cell_type": "code",
      "source": [
        ""
      ],
      "metadata": {
        "id": "Liiqu_eaGvJC"
      },
      "execution_count": null,
      "outputs": []
    },
    {
      "cell_type": "markdown",
      "source": [
        "### Looping"
      ],
      "metadata": {
        "id": "KotwCFHjHe-f"
      }
    },
    {
      "cell_type": "code",
      "source": [
        "print(\"Halo Afif, apa kabar?\")"
      ],
      "metadata": {
        "colab": {
          "base_uri": "https://localhost:8080/"
        },
        "id": "cu8GZF3GHhxT",
        "outputId": "1eb9496b-ce90-4676-b55f-8cd2a689073f"
      },
      "execution_count": 27,
      "outputs": [
        {
          "output_type": "stream",
          "name": "stdout",
          "text": [
            "Halo Afif, apa kabar?\n"
          ]
        }
      ]
    },
    {
      "cell_type": "code",
      "source": [
        "kali = 0\n",
        "while kali < 5:\n",
        "  print(f\"Kali : {kali}\")\n",
        "  print(\"Halo Afif, apa kabar?\")\n",
        "  kali = kali + 1"
      ],
      "metadata": {
        "colab": {
          "base_uri": "https://localhost:8080/"
        },
        "id": "6KYL1nB-HrFq",
        "outputId": "329b5d8f-0311-4b69-88ec-b031601a15f3"
      },
      "execution_count": 28,
      "outputs": [
        {
          "output_type": "stream",
          "name": "stdout",
          "text": [
            "Kali : 0\n",
            "Halo Afif, apa kabar?\n",
            "Kali : 1\n",
            "Halo Afif, apa kabar?\n",
            "Kali : 2\n",
            "Halo Afif, apa kabar?\n",
            "Kali : 3\n",
            "Halo Afif, apa kabar?\n",
            "Kali : 4\n",
            "Halo Afif, apa kabar?\n"
          ]
        }
      ]
    },
    {
      "cell_type": "code",
      "source": [
        "list_makanan = []\n",
        "makanan = ''\n",
        "while makanan != 'cukup':\n",
        "  if makanan != '':\n",
        "    list_makanan.append(makanan)\n",
        "  makanan = input(\"masukkan pesanan anda : \")\n"
      ],
      "metadata": {
        "colab": {
          "base_uri": "https://localhost:8080/"
        },
        "id": "hE-Z-nOoLmFb",
        "outputId": "c7739990-fa56-4d88-a6a4-2028ab91f4d0"
      },
      "execution_count": 30,
      "outputs": [
        {
          "name": "stdout",
          "output_type": "stream",
          "text": [
            "masukkan pesanan anda : mie goreng\n",
            "masukkan pesanan anda : ayam goreng\n",
            "masukkan pesanan anda : es jeruk\n",
            "masukkan pesanan anda : cukup\n"
          ]
        }
      ]
    },
    {
      "cell_type": "code",
      "source": [
        "# tabel perkalian\n",
        "print (f\"{7} x {1} = {7*1}\")\n",
        "print (f\"{7} x {2} = {7*1}\")\n",
        "print (f\"{7} x {3} = {7*1}\")"
      ],
      "metadata": {
        "colab": {
          "base_uri": "https://localhost:8080/"
        },
        "id": "DGw8czkaNoIX",
        "outputId": "19bea8df-3fcd-41c9-901f-b68b7937f5fd"
      },
      "execution_count": 31,
      "outputs": [
        {
          "output_type": "stream",
          "name": "stdout",
          "text": [
            "7 x 1 = 7\n",
            "7 x 2 = 7\n",
            "7 x 3 = 7\n"
          ]
        }
      ]
    },
    {
      "cell_type": "code",
      "source": [
        "i = 1\n",
        "while i<=10:\n",
        "  print (f\"{7} x {i} = {7*i}\")\\\n",
        "  # i = i + 1\n",
        "  i += 1"
      ],
      "metadata": {
        "colab": {
          "base_uri": "https://localhost:8080/"
        },
        "id": "v-pN1hAvOE4U",
        "outputId": "2a22965c-5c39-49bf-8cd2-e2675ae7ec20"
      },
      "execution_count": 32,
      "outputs": [
        {
          "output_type": "stream",
          "name": "stdout",
          "text": [
            "7 x 1 = 7\n",
            "7 x 2 = 14\n",
            "7 x 3 = 21\n",
            "7 x 4 = 28\n",
            "7 x 5 = 35\n",
            "7 x 6 = 42\n",
            "7 x 7 = 49\n",
            "7 x 8 = 56\n",
            "7 x 9 = 63\n",
            "7 x 10 = 70\n"
          ]
        }
      ]
    },
    {
      "cell_type": "code",
      "source": [
        "#for loop\n",
        "buahbuahan = [\"pepaya\", \"mangga\", \"pisang\", \"jambu\"]\n",
        "for item in buahbuahan:\n",
        "  print(f\"saya jual {item}\")"
      ],
      "metadata": {
        "colab": {
          "base_uri": "https://localhost:8080/"
        },
        "id": "dxB3FiZFSHHC",
        "outputId": "40444486-c4a1-4257-9bba-0be9d771345c"
      },
      "execution_count": 34,
      "outputs": [
        {
          "output_type": "stream",
          "name": "stdout",
          "text": [
            "saya jual pepaya\n",
            "saya jual mangga\n",
            "saya jual pisang\n",
            "saya jual jambu\n"
          ]
        }
      ]
    },
    {
      "cell_type": "code",
      "source": [
        "for i in (1,2,3,4,5,6,7,8,9,10):\n",
        "  print(f\"{7} x {i} = {7*i}\")"
      ],
      "metadata": {
        "colab": {
          "base_uri": "https://localhost:8080/"
        },
        "id": "DuMrs0TATCEv",
        "outputId": "f813273c-f366-4511-b9cd-62080dafdc6d"
      },
      "execution_count": 35,
      "outputs": [
        {
          "output_type": "stream",
          "name": "stdout",
          "text": [
            "7 x 1 = 7\n",
            "7 x 2 = 14\n",
            "7 x 3 = 21\n",
            "7 x 4 = 28\n",
            "7 x 5 = 35\n",
            "7 x 6 = 42\n",
            "7 x 7 = 49\n",
            "7 x 8 = 56\n",
            "7 x 9 = 63\n",
            "7 x 10 = 70\n"
          ]
        }
      ]
    },
    {
      "cell_type": "markdown",
      "source": [
        ""
      ],
      "metadata": {
        "id": "WDu4aFcmLlu0"
      }
    },
    {
      "cell_type": "code",
      "source": [
        "list(range(1,10,1))"
      ],
      "metadata": {
        "colab": {
          "base_uri": "https://localhost:8080/"
        },
        "id": "489ly97GTrez",
        "outputId": "d6c38e09-e7c5-48f4-ebac-221fde2afb50"
      },
      "execution_count": 36,
      "outputs": [
        {
          "output_type": "execute_result",
          "data": {
            "text/plain": [
              "[1, 2, 3, 4, 5, 6, 7, 8, 9]"
            ]
          },
          "metadata": {},
          "execution_count": 36
        }
      ]
    },
    {
      "cell_type": "code",
      "source": [
        "list(range(1,11))"
      ],
      "metadata": {
        "colab": {
          "base_uri": "https://localhost:8080/"
        },
        "id": "Q5b4mA5-UVjh",
        "outputId": "00691e3e-e67a-45aa-f5cb-43c245836700"
      },
      "execution_count": 37,
      "outputs": [
        {
          "output_type": "execute_result",
          "data": {
            "text/plain": [
              "[1, 2, 3, 4, 5, 6, 7, 8, 9, 10]"
            ]
          },
          "metadata": {},
          "execution_count": 37
        }
      ]
    },
    {
      "cell_type": "code",
      "source": [
        "for i in range (1,11):\n",
        "  print(f\"{7} x {i} = {7*i}\")"
      ],
      "metadata": {
        "colab": {
          "base_uri": "https://localhost:8080/"
        },
        "id": "whWkp7jcU56B",
        "outputId": "f9a82083-69a3-4c8b-8f96-d52f6ad3d5f9"
      },
      "execution_count": 38,
      "outputs": [
        {
          "output_type": "stream",
          "name": "stdout",
          "text": [
            "7 x 1 = 7\n",
            "7 x 2 = 14\n",
            "7 x 3 = 21\n",
            "7 x 4 = 28\n",
            "7 x 5 = 35\n",
            "7 x 6 = 42\n",
            "7 x 7 = 49\n",
            "7 x 8 = 56\n",
            "7 x 9 = 63\n"
          ]
        }
      ]
    },
    {
      "cell_type": "code",
      "source": [
        "#special keyword: break untuk berhenti paksa\n",
        "for i in range (1,11):\n",
        "  if i == 7:\n",
        "    break\n",
        "  print(f\"{7} x {i} = {7*i}\")"
      ],
      "metadata": {
        "colab": {
          "base_uri": "https://localhost:8080/"
        },
        "id": "75zvYpzzVBo6",
        "outputId": "b08600f0-4d88-4b45-ed68-bfad4d6760bf"
      },
      "execution_count": 40,
      "outputs": [
        {
          "output_type": "stream",
          "name": "stdout",
          "text": [
            "7 x 1 = 7\n",
            "7 x 2 = 14\n",
            "7 x 3 = 21\n",
            "7 x 4 = 28\n",
            "7 x 5 = 35\n",
            "7 x 6 = 42\n"
          ]
        }
      ]
    },
    {
      "cell_type": "code",
      "source": [
        "#special keyword: continue untuk skip looping di loop tertentu habis 6 langsung 8\n",
        "for i in range (1,11):\n",
        "  if i == 7:\n",
        "    continue\n",
        "  print(f\"{7} x {i} = {7*i}\")\n"
      ],
      "metadata": {
        "colab": {
          "base_uri": "https://localhost:8080/"
        },
        "id": "v7Izn8g5VIIv",
        "outputId": "945d2681-3961-430f-9c32-c8c38bf1b173"
      },
      "execution_count": 41,
      "outputs": [
        {
          "output_type": "stream",
          "name": "stdout",
          "text": [
            "7 x 1 = 7\n",
            "7 x 2 = 14\n",
            "7 x 3 = 21\n",
            "7 x 4 = 28\n",
            "7 x 5 = 35\n",
            "7 x 6 = 42\n",
            "7 x 8 = 56\n",
            "7 x 9 = 63\n",
            "7 x 10 = 70\n"
          ]
        }
      ]
    },
    {
      "cell_type": "code",
      "source": [
        "i = 0\n",
        "while i<=10:\n",
        "  i += 1\n",
        "  if i ==7\n",
        "  print (f\"{7} x {i} = {7*i}\")\\\n",
        "  # i = i + 1\n",
        "  "
      ],
      "metadata": {
        "colab": {
          "base_uri": "https://localhost:8080/",
          "height": 130
        },
        "id": "2ZmvWku0VxQG",
        "outputId": "4eab7cdc-6db7-4c60-c417-2197c897fb39"
      },
      "execution_count": 45,
      "outputs": [
        {
          "output_type": "error",
          "ename": "SyntaxError",
          "evalue": "ignored",
          "traceback": [
            "\u001b[0;36m  File \u001b[0;32m\"<ipython-input-45-feb58151da12>\"\u001b[0;36m, line \u001b[0;32m4\u001b[0m\n\u001b[0;31m    if i ==7\u001b[0m\n\u001b[0m            ^\u001b[0m\n\u001b[0;31mSyntaxError\u001b[0m\u001b[0;31m:\u001b[0m invalid syntax\n"
          ]
        }
      ]
    },
    {
      "cell_type": "code",
      "source": [
        "#game\n",
        "\n",
        "from random import randint\n"
      ],
      "metadata": {
        "id": "8ew3u7IdWuDL"
      },
      "execution_count": 46,
      "outputs": []
    },
    {
      "cell_type": "code",
      "source": [
        "randint (1,10)"
      ],
      "metadata": {
        "colab": {
          "base_uri": "https://localhost:8080/"
        },
        "id": "0KsVaYRYYNua",
        "outputId": "7b0316f8-f4fe-4c18-c0c8-ab5f08ed8507"
      },
      "execution_count": 47,
      "outputs": [
        {
          "output_type": "execute_result",
          "data": {
            "text/plain": [
              "3"
            ]
          },
          "metadata": {},
          "execution_count": 47
        }
      ]
    },
    {
      "cell_type": "code",
      "source": [
        "angka_komputer = randint(1,10)\n",
        "angka_tebakan = 0\n",
        "while angka_tebakan != angka_komputer:\n",
        "  angka_tebakan = input (\"Masukkan Tebakan Anda : \")\n",
        "  angka_tebakan = int(angka_tebakan)\n",
        "  if angka_tebakan < angka_komputer:\n",
        "    print(\"Angka terlalu kecil\")\n",
        "  elif angka_tebakan > angka_komputer:\n",
        "    print(\"Angka terlalu besar\")\n",
        "  else:\n",
        "    print(\"Selamat, anda menebak dengan benar\")\n",
        "    print (f\"Angka komputer adalah {angka_komputer}\")"
      ],
      "metadata": {
        "colab": {
          "base_uri": "https://localhost:8080/"
        },
        "id": "BJm2jGOkYRrb",
        "outputId": "60597ef4-e9aa-4429-93b8-0615365f6d27"
      },
      "execution_count": 49,
      "outputs": [
        {
          "output_type": "stream",
          "name": "stdout",
          "text": [
            "Masukkan Tebakan Anda : 5\n",
            "Angka terlalu kecil\n",
            "Masukkan Tebakan Anda : 8\n",
            "Angka terlalu besar\n",
            "Masukkan Tebakan Anda : 7\n",
            "Selamat, anda menebak dengan benar\n",
            "Angka komputer adalah 7\n"
          ]
        }
      ]
    },
    {
      "cell_type": "code",
      "source": [
        "angka_komputer = randint(1,10)\n",
        "angka_tebakan = 0\n",
        "kesempatan = 3\n",
        "while angka_tebakan != angka_komputer and kesempatan >0:\n",
        "  angka_tebakan = input (\"Masukkan Tebakan Anda : \")\n",
        "  angka_tebakan = int(angka_tebakan)\n",
        "  if angka_tebakan < angka_komputer:\n",
        "    print(\"Angka terlalu kecil\")\n",
        "    kesempatan -= 1\n",
        "  elif angka_tebakan > angka_komputer:\n",
        "    print(\"Angka terlalu besar\")\n",
        "    kesempatan -= 1\n",
        "  else:\n",
        "    print(\"Selamat, anda menebak dengan benar\")\n",
        "    print (f\"Angka komputer adalah {angka_komputer}\")\n",
        "  if kesempatan == 0:\n",
        "    print (\"ANDA KALAH: CUPU!\")"
      ],
      "metadata": {
        "id": "nxlXJbmRakg_"
      },
      "execution_count": null,
      "outputs": []
    }
  ]
}