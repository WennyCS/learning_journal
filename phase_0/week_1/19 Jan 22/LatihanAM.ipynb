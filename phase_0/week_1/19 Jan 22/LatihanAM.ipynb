{
 "cells": [
  {
   "cell_type": "markdown",
   "metadata": {},
   "source": [
    "# Fungsi"
   ]
  },
  {
   "cell_type": "markdown",
   "metadata": {},
   "source": [
    "Kita membuat perintah yang dapat dipanggil berulang-ulang. Function consist of built-in functions and user-defined function.\n",
    "\n",
    "rules to difine a function in Python:\n",
    "- dimulai dengan kata kunci def dan diikuti dengan nama fungsi dan tanda kurung ()\n",
    "- () adalah tempat meletakan parameter atau argumen\n",
    "- baris pertama dibawah fungsi adalah untuk docstring yang berfungsi mendefinisikan tujuan fungsi dengan ''' '''\n",
    "- blok kode dari fungsi demulai dengan : dan ditab\n",
    "- statemen return [ekspresi] akhir dari fungsi"
   ]
  },
  {
   "cell_type": "code",
   "execution_count": 2,
   "metadata": {},
   "outputs": [
    {
     "name": "stdout",
     "output_type": "stream",
     "text": [
      "\u001b[1;31mDocstring:\u001b[0m\n",
      "print(value, ..., sep=' ', end='\\n', file=sys.stdout, flush=False)\n",
      "\n",
      "Prints the values to a stream, or to sys.stdout by default.\n",
      "Optional keyword arguments:\n",
      "file:  a file-like object (stream); defaults to the current sys.stdout.\n",
      "sep:   string inserted between values, default a space.\n",
      "end:   string appended after the last value, default a newline.\n",
      "flush: whether to forcibly flush the stream.\n",
      "\u001b[1;31mType:\u001b[0m      builtin_function_or_method\n"
     ]
    }
   ],
   "source": [
    "print? #fungsi bawaan\n",
    "#type? int? etc"
   ]
  },
  {
   "cell_type": "code",
   "execution_count": 10,
   "metadata": {},
   "outputs": [],
   "source": [
    "def my_function (p,l):\n",
    "    '''menghitung luas persegi'''\n",
    "    print(p*l)"
   ]
  },
  {
   "cell_type": "code",
   "execution_count": 11,
   "metadata": {},
   "outputs": [
    {
     "name": "stdout",
     "output_type": "stream",
     "text": [
      "6\n"
     ]
    }
   ],
   "source": [
    "my_function (2,3)"
   ]
  },
  {
   "cell_type": "markdown",
   "metadata": {},
   "source": [
    "## Calling a Function"
   ]
  },
  {
   "cell_type": "code",
   "execution_count": 1,
   "metadata": {},
   "outputs": [
    {
     "name": "stdout",
     "output_type": "stream",
     "text": [
      "I'm first call to user defined function!\n",
      "Again second call to the same function\n"
     ]
    }
   ],
   "source": [
    "def printme (str_input):\n",
    "    '''This prints a passed string into this function'''\n",
    "    print(str_input)\n",
    "\n",
    "printme(\"I'm first call to user defined function!\")\n",
    "printme(\"Again second call to the same function\")\n"
   ]
  },
  {
   "cell_type": "code",
   "execution_count": 19,
   "metadata": {},
   "outputs": [
    {
     "name": "stdout",
     "output_type": "stream",
     "text": [
      "ini adalah fungsi\n"
     ]
    }
   ],
   "source": [
    "#mendefinisikan fungsi\n",
    "def fungsi ():\n",
    "    print ('ini adalah fungsi')\n",
    "\n",
    "#memanggil fungsi\n",
    "fungsi ()"
   ]
  },
  {
   "cell_type": "markdown",
   "metadata": {},
   "source": [
    "## Past by reference vs value"
   ]
  },
  {
   "cell_type": "code",
   "execution_count": 13,
   "metadata": {},
   "outputs": [
    {
     "name": "stdout",
     "output_type": "stream",
     "text": [
      "\n",
      "Values outside the function - before :  [10, 20, 30]\n",
      "\n",
      "Values inside the function - before:  [10, 20, 30, 1, 2, 3, 4]\n",
      "\n",
      "Values outside the function - after  :  [10, 20, 30, 1, 2, 3, 4]\n"
     ]
    }
   ],
   "source": [
    "def changeme (mylist):\n",
    "    mylist = mylist+[1,2,3,4]\n",
    "    print(\"\\nValues inside the function - before: \", mylist)\n",
    "    return mylist\n",
    "\n",
    "mylist = [10,20,30]\n",
    "print(\"\\nValues outside the function - before : \", mylist)\n",
    "mylist = changeme( mylist )\n",
    "print(\"\\nValues outside the function - after  : \", mylist)\n"
   ]
  },
  {
   "cell_type": "markdown",
   "metadata": {},
   "source": [
    "## Required Arguments"
   ]
  },
  {
   "cell_type": "code",
   "execution_count": 20,
   "metadata": {},
   "outputs": [
    {
     "name": "stdout",
     "output_type": "stream",
     "text": [
      "siswa ini bernama:  mario\n"
     ]
    }
   ],
   "source": [
    "def siswa (nama):\n",
    "    print('siswa ini bernama: ', nama)\n",
    "siswa ('mario') #mario adalah argumen yang mengisi nama\n"
   ]
  },
  {
   "cell_type": "code",
   "execution_count": 31,
   "metadata": {},
   "outputs": [
    {
     "name": "stdout",
     "output_type": "stream",
     "text": [
      "ibu beraktifitas:  berenang\n"
     ]
    }
   ],
   "source": [
    "def ibu (aktifitas):\n",
    "    print ('ibu beraktifitas: ', aktifitas)\n",
    "ibu ('berenang')"
   ]
  },
  {
   "cell_type": "code",
   "execution_count": 32,
   "metadata": {},
   "outputs": [
    {
     "name": "stdout",
     "output_type": "stream",
     "text": [
      "kakak lita mempunyai warna kesukaan  hijau muda\n"
     ]
    }
   ],
   "source": [
    "def kakak_lita (warna_kesukaan):\n",
    "    print ('kakak lita mempunyai warna kesukaan ', warna_kesukaan)\n",
    "kakak_lita ('hijau muda')"
   ]
  },
  {
   "cell_type": "markdown",
   "metadata": {},
   "source": [
    "## Keyword Argument"
   ]
  },
  {
   "cell_type": "code",
   "execution_count": 26,
   "metadata": {},
   "outputs": [
    {
     "name": "stdout",
     "output_type": "stream",
     "text": [
      "guru ini bernama:  popong\n",
      "guru ini mengajar:  seni rupa\n",
      "guru ini bernama:  susi\n",
      "guru ini mengajar:  kimia\n"
     ]
    }
   ],
   "source": [
    "def guru (nama, pelajaran):\n",
    "    print ('guru ini bernama: ',nama)\n",
    "    print ('guru ini mengajar: ',pelajaran)\n",
    "\n",
    "guru(nama = 'popong', pelajaran ='seni rupa')\n",
    "guru(nama = 'susi', pelajaran = 'kimia')"
   ]
  },
  {
   "cell_type": "code",
   "execution_count": 29,
   "metadata": {},
   "outputs": [
    {
     "name": "stdout",
     "output_type": "stream",
     "text": [
      "nama : Andi\n",
      "makanan kesukaan:  mi goreng\n",
      "nama : Dika\n",
      "makanan kesukaan:  pizza\n"
     ]
    }
   ],
   "source": [
    "def daftar_makanan_kesukaan (nama, makanan_kesukaan ):\n",
    "    print ('nama :', nama)\n",
    "    print ('makanan kesukaan: ', makanan_kesukaan)\n",
    "\n",
    "daftar_makanan_kesukaan (nama = 'Andi', makanan_kesukaan= 'mi goreng')\n",
    "daftar_makanan_kesukaan (nama= 'Dika', makanan_kesukaan= 'pizza')"
   ]
  },
  {
   "cell_type": "code",
   "execution_count": 30,
   "metadata": {},
   "outputs": [
    {
     "name": "stdout",
     "output_type": "stream",
     "text": [
      "Andi\n",
      "makanan kesukaan:  mi goreng\n",
      "Dika\n",
      "makanan kesukaan:  pizza\n"
     ]
    }
   ],
   "source": [
    "def daftar_makanan_kesukaan (nama, makanan_kesukaan ):\n",
    "    print (nama)\n",
    "    print ('makanan kesukaan: ', makanan_kesukaan)\n",
    "\n",
    "daftar_makanan_kesukaan (nama = 'Andi', makanan_kesukaan= 'mi goreng')\n",
    "daftar_makanan_kesukaan (nama= 'Dika', makanan_kesukaan= 'pizza')"
   ]
  },
  {
   "cell_type": "markdown",
   "metadata": {},
   "source": [
    "## Default Argument"
   ]
  },
  {
   "cell_type": "code",
   "execution_count": 33,
   "metadata": {},
   "outputs": [
    {
     "name": "stdout",
     "output_type": "stream",
     "text": [
      "penjaga sekolah ini bernama:  Entis\n",
      "shiftnya:  siang\n",
      "galak?:  tidak\n",
      "penjaga sekolah ini bernama:  Maman\n",
      "shiftnya:  malam\n",
      "galak?:  tidak\n"
     ]
    }
   ],
   "source": [
    "def penjagaSekolah (nama, shift='siang', galak='tidak'):\n",
    "#default karena ada argument yang sudah diisi\n",
    "    print('penjaga sekolah ini bernama: ', nama)\n",
    "    print('shiftnya: ', shift)\n",
    "    print('galak?: ', galak)\n",
    "\n",
    "penjagaSekolah('Entis')\n",
    "penjagaSekolah('Maman',shift='malam')\n",
    "penjagaSekolah('Asep',galak='Sangat')\n",
    "#penjagaSekolah(shift='malam',galak='iya') #baris terakhir akan error karena argument dari nama tidak diisi "
   ]
  },
  {
   "cell_type": "markdown",
   "metadata": {},
   "source": [
    "## Return Value"
   ]
  },
  {
   "cell_type": "code",
   "execution_count": 35,
   "metadata": {},
   "outputs": [
    {
     "name": "stdout",
     "output_type": "stream",
     "text": [
      "nilai kuadrat dari 3 adalah: 9\n",
      "9\n"
     ]
    }
   ],
   "source": [
    "def kuadrat(argumen):\n",
    "    total = argumen**2\n",
    "    print('nilai kuadrat dari', argumen, 'adalah:', total)\n",
    "    return total\n",
    "\n",
    "a = kuadrat (3)\n",
    "print (a)\n",
    "\n",
    "# return untuk mengeluarkan nilai total"
   ]
  },
  {
   "cell_type": "markdown",
   "metadata": {},
   "source": [
    "## Lambda"
   ]
  },
  {
   "cell_type": "code",
   "execution_count": null,
   "metadata": {},
   "outputs": [],
   "source": []
  },
  {
   "cell_type": "markdown",
   "metadata": {},
   "source": [
    "## Local vs Global Variables"
   ]
  },
  {
   "cell_type": "code",
   "execution_count": null,
   "metadata": {},
   "outputs": [],
   "source": []
  },
  {
   "cell_type": "code",
   "execution_count": 9,
   "metadata": {},
   "outputs": [
    {
     "name": "stdout",
     "output_type": "stream",
     "text": [
      "luas segitiga: 12.00\n"
     ]
    }
   ],
   "source": [
    "def luas_segitiga(a,t): \n",
    "    luas = (a*t)/2\n",
    "    print('luas segitiga: %.2f' %luas)\n",
    "\n",
    "luas_segitiga (4,6)"
   ]
  },
  {
   "cell_type": "code",
   "execution_count": 6,
   "metadata": {},
   "outputs": [
    {
     "name": "stdout",
     "output_type": "stream",
     "text": [
      "Name :  a\n",
      "Age. :  4\n"
     ]
    }
   ],
   "source": [
    "# Function definition is here\n",
    "def printinfo( name, age ):\n",
    "   '''This prints a passed info into this function'''\n",
    "   print(\"Name : \", name)\n",
    "   print(\"Age. : \", age)\n",
    "\n",
    "# Now you can call printinfo function\n",
    "printinfo( age=4, name=\"a\" )"
   ]
  },
  {
   "cell_type": "code",
   "execution_count": 7,
   "metadata": {},
   "outputs": [
    {
     "name": "stdout",
     "output_type": "stream",
     "text": [
      "teman saya namanya:joko\n"
     ]
    }
   ],
   "source": [
    "def nama_orang(*nama):\n",
    "    print('teman saya namanya:' + nama[2])\n",
    "nama_orang ('irfan','sardi','joko','tono')"
   ]
  },
  {
   "cell_type": "code",
   "execution_count": null,
   "metadata": {},
   "outputs": [],
   "source": [
    "#Keyword\n",
    "# Function definition is here\n",
    "def printinfo( name, age = 26 ):\n",
    "   '''This prints a passed info into this function'''\n",
    "   print(\"Name : \", name)\n",
    "   print(\"Age  : \", age)\n",
    "   print(\"\")\n",
    "\n",
    "# Now you can call printinfo function\n",
    "printinfo( age=50, name=\"hacktiv8\" )\n",
    "printinfo( name=\"hacktiv\" )"
   ]
  },
  {
   "cell_type": "code",
   "execution_count": 9,
   "metadata": {},
   "outputs": [
    {
     "name": "stdout",
     "output_type": "stream",
     "text": [
      "nasi padang\n"
     ]
    }
   ],
   "source": [
    "def nama_makanan (*nama):\n",
    "    print (nama[2])\n",
    "nama_makanan ('ketoprak','mie ayam', 'nasi padang')"
   ]
  },
  {
   "cell_type": "code",
   "execution_count": 10,
   "metadata": {},
   "outputs": [
    {
     "name": "stdout",
     "output_type": "stream",
     "text": [
      "ketoprak\n"
     ]
    }
   ],
   "source": [
    "def nama_makanan (nama1, nama2, nama3):\n",
    "    print (nama1)\n",
    "nama_makanan (nama1='ketoprak',nama2='mie ayam',nama3= 'nasi padang')"
   ]
  },
  {
   "cell_type": "code",
   "execution_count": 11,
   "metadata": {},
   "outputs": [
    {
     "name": "stdout",
     "output_type": "stream",
     "text": [
      "mie ayam\n"
     ]
    }
   ],
   "source": [
    "def nama_makanan (**nama):\n",
    "    print (nama['nama2'])\n",
    "nama_makanan (nama1='ketoprak',nama2='mie ayam',nama3= 'nasi padang')"
   ]
  },
  {
   "cell_type": "code",
   "execution_count": 12,
   "metadata": {},
   "outputs": [
    {
     "data": {
      "text/plain": [
       "13"
      ]
     },
     "execution_count": 12,
     "metadata": {},
     "output_type": "execute_result"
    }
   ],
   "source": [
    "#lamdafunction\n",
    "\n",
    "def hitung(x,y):\n",
    "    return x**2 + y**2\n",
    "\n",
    "hitung (2,3)"
   ]
  },
  {
   "cell_type": "code",
   "execution_count": 18,
   "metadata": {},
   "outputs": [
    {
     "name": "stdout",
     "output_type": "stream",
     "text": [
      "hasil: 13\n"
     ]
    }
   ],
   "source": [
    "#lambdafunction\n",
    "hitung = lambda x, y : x**2 + y**2\n",
    "print (\"hasil:\", hitung(2,3))"
   ]
  },
  {
   "cell_type": "code",
   "execution_count": 19,
   "metadata": {},
   "outputs": [],
   "source": [
    "#returnstatement"
   ]
  },
  {
   "cell_type": "code",
   "execution_count": 22,
   "metadata": {},
   "outputs": [
    {
     "name": "stdout",
     "output_type": "stream",
     "text": [
      "nama teman saya adalah  elita\n"
     ]
    }
   ],
   "source": [
    "#global variables vs local variables\n",
    "\n",
    "#global variables = semua fungsi\n",
    "\n",
    "#local variables = fungsi tertentu saja\n",
    "\n",
    "nama = 'elita' #global variable\n",
    "def myfunc():\n",
    "    print('nama teman saya adalah  ' + nama)\n",
    "\n",
    "myfunc()"
   ]
  },
  {
   "cell_type": "code",
   "execution_count": 23,
   "metadata": {},
   "outputs": [
    {
     "name": "stdout",
     "output_type": "stream",
     "text": [
      "nama teman saya adalah  anita antono\n"
     ]
    }
   ],
   "source": [
    "#global variables vs local variables\n",
    "\n",
    "#global variables = semua fungsi\n",
    "\n",
    "#local variables = fungsi tertentu saja\n",
    "\n",
    "nama = 'elita' #global variable\n",
    "def myfunc():\n",
    "    nama = 'anita antono' #local\n",
    "    print('nama teman saya adalah  ' + nama)\n",
    "\n",
    "myfunc()"
   ]
  },
  {
   "cell_type": "code",
   "execution_count": 25,
   "metadata": {},
   "outputs": [
    {
     "name": "stdout",
     "output_type": "stream",
     "text": [
      "elita\n"
     ]
    }
   ],
   "source": [
    "#global variables vs local variables\n",
    "\n",
    "nama = 'elita' #global variable\n",
    "def myfunc():\n",
    "    nama = 'anita antono' #local\n",
    "    print('nama teman saya adalah  ' + nama)\n",
    "\n",
    "print (nama) #local tidak dipanggil"
   ]
  },
  {
   "cell_type": "code",
   "execution_count": 26,
   "metadata": {},
   "outputs": [
    {
     "name": "stdout",
     "output_type": "stream",
     "text": [
      "elita\n"
     ]
    }
   ],
   "source": [
    "#global variables vs local variables ---- hasil Anita Antono ---coba tonton lagi videonya\n",
    "\n",
    "nama = 'elita' #global variable\n",
    "def myfunc():\n",
    "    global nama\n",
    "    nama = 'anita antono' #local\n",
    "    print('nama teman saya adalah  ' + nama)\n",
    "\n",
    "print (nama) #memanggil global dan nama globalsudah berubah ke anita"
   ]
  },
  {
   "cell_type": "code",
   "execution_count": 5,
   "metadata": {},
   "outputs": [
    {
     "data": {
      "text/plain": [
       "'zack'"
      ]
     },
     "execution_count": 5,
     "metadata": {},
     "output_type": "execute_result"
    }
   ],
   "source": [
    "#modul dari person.py\n",
    "import person\n",
    "person.name"
   ]
  },
  {
   "cell_type": "code",
   "execution_count": 4,
   "metadata": {},
   "outputs": [
    {
     "data": {
      "text/plain": [
       "['laptop', 'smartphone', 'tablet']"
      ]
     },
     "execution_count": 4,
     "metadata": {},
     "output_type": "execute_result"
    }
   ],
   "source": [
    "#modul dari person.py\n",
    "import person\n",
    "person.devices"
   ]
  },
  {
   "cell_type": "code",
   "execution_count": 7,
   "metadata": {},
   "outputs": [
    {
     "name": "stdout",
     "output_type": "stream",
     "text": [
      "arg = hello Alita\n"
     ]
    }
   ],
   "source": [
    "import person\n",
    "person.display ('hello Alita')"
   ]
  },
  {
   "cell_type": "code",
   "execution_count": 3,
   "metadata": {},
   "outputs": [
    {
     "data": {
      "text/plain": [
       "['laptop', 'smartphone', 'tablet']"
      ]
     },
     "execution_count": 3,
     "metadata": {},
     "output_type": "execute_result"
    }
   ],
   "source": [
    "#import from\n",
    "from person import name, devices\n",
    "name\n"
   ]
  },
  {
   "cell_type": "code",
   "execution_count": 4,
   "metadata": {},
   "outputs": [
    {
     "data": {
      "text/plain": [
       "['laptop', 'smartphone', 'tablet']"
      ]
     },
     "execution_count": 4,
     "metadata": {},
     "output_type": "execute_result"
    }
   ],
   "source": [
    "#sudah import person dari bagian atas\n",
    "devices "
   ]
  },
  {
   "cell_type": "code",
   "execution_count": 8,
   "metadata": {},
   "outputs": [
    {
     "data": {
      "text/plain": [
       "'zack'"
      ]
     },
     "execution_count": 8,
     "metadata": {},
     "output_type": "execute_result"
    }
   ],
   "source": [
    "#inisialisasi\n",
    "from person import name as n, devices as d\n",
    "n"
   ]
  },
  {
   "cell_type": "code",
   "execution_count": null,
   "metadata": {},
   "outputs": [],
   "source": [
    "#import dari folder yang berbeda\n",
    "import package.mod1, package.mod2\n",
    "\n",
    "package.mod2.color\n",
    "\n",
    "#import dari folder yang berbeda dengan from\n",
    "from package.mod1"
   ]
  }
 ],
 "metadata": {
  "interpreter": {
   "hash": "16d585b2b6fd9b768cbbc82e697d03f4f72ca8738313edbb48a7607ea27d59db"
  },
  "kernelspec": {
   "display_name": "Python 3.9.7 64-bit ('base': conda)",
   "language": "python",
   "name": "python3"
  },
  "language_info": {
   "codemirror_mode": {
    "name": "ipython",
    "version": 3
   },
   "file_extension": ".py",
   "mimetype": "text/x-python",
   "name": "python",
   "nbconvert_exporter": "python",
   "pygments_lexer": "ipython3",
   "version": "3.9.7"
  },
  "orig_nbformat": 4
 },
 "nbformat": 4,
 "nbformat_minor": 2
}
