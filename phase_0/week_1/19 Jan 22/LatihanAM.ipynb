{
 "cells": [
  {
   "cell_type": "code",
   "execution_count": 4,
   "metadata": {},
   "outputs": [
    {
     "name": "stdout",
     "output_type": "stream",
     "text": [
      "luas segitiga: 12.00\n"
     ]
    }
   ],
   "source": [
    "def luas_segitiga(alas,tinggi):\n",
    "    luas = (alas*tinggi)/2\n",
    "    print('luas segitiga: %.2f' %luas)\n",
    "\n",
    "luas_segitiga (4,6)"
   ]
  },
  {
   "cell_type": "code",
   "execution_count": 6,
   "metadata": {},
   "outputs": [
    {
     "name": "stdout",
     "output_type": "stream",
     "text": [
      "Name :  a\n",
      "Age. :  4\n"
     ]
    }
   ],
   "source": [
    "# Function definition is here\n",
    "def printinfo( name, age ):\n",
    "   '''This prints a passed info into this function'''\n",
    "   print(\"Name : \", name)\n",
    "   print(\"Age. : \", age)\n",
    "\n",
    "# Now you can call printinfo function\n",
    "printinfo( age=4, name=\"a\" )"
   ]
  },
  {
   "cell_type": "code",
   "execution_count": 7,
   "metadata": {},
   "outputs": [
    {
     "name": "stdout",
     "output_type": "stream",
     "text": [
      "teman saya namanya:joko\n"
     ]
    }
   ],
   "source": [
    "def nama_orang(*nama):\n",
    "    print('teman saya namanya:' + nama[2])\n",
    "nama_orang ('irfan','sardi','joko','tono')"
   ]
  },
  {
   "cell_type": "code",
   "execution_count": null,
   "metadata": {},
   "outputs": [],
   "source": [
    "#Keyword\n",
    "# Function definition is here\n",
    "def printinfo( name, age = 26 ):\n",
    "   '''This prints a passed info into this function'''\n",
    "   print(\"Name : \", name)\n",
    "   print(\"Age  : \", age)\n",
    "   print(\"\")\n",
    "\n",
    "# Now you can call printinfo function\n",
    "printinfo( age=50, name=\"hacktiv8\" )\n",
    "printinfo( name=\"hacktiv\" )"
   ]
  },
  {
   "cell_type": "code",
   "execution_count": 9,
   "metadata": {},
   "outputs": [
    {
     "name": "stdout",
     "output_type": "stream",
     "text": [
      "nasi padang\n"
     ]
    }
   ],
   "source": [
    "def nama_makanan (*nama):\n",
    "    print (nama[2])\n",
    "nama_makanan ('ketoprak','mie ayam', 'nasi padang')"
   ]
  },
  {
   "cell_type": "code",
   "execution_count": 10,
   "metadata": {},
   "outputs": [
    {
     "name": "stdout",
     "output_type": "stream",
     "text": [
      "ketoprak\n"
     ]
    }
   ],
   "source": [
    "def nama_makanan (nama1, nama2, nama3):\n",
    "    print (nama1)\n",
    "nama_makanan (nama1='ketoprak',nama2='mie ayam',nama3= 'nasi padang')"
   ]
  },
  {
   "cell_type": "code",
   "execution_count": 11,
   "metadata": {},
   "outputs": [
    {
     "name": "stdout",
     "output_type": "stream",
     "text": [
      "mie ayam\n"
     ]
    }
   ],
   "source": [
    "def nama_makanan (**nama):\n",
    "    print (nama['nama2'])\n",
    "nama_makanan (nama1='ketoprak',nama2='mie ayam',nama3= 'nasi padang')"
   ]
  },
  {
   "cell_type": "code",
   "execution_count": 12,
   "metadata": {},
   "outputs": [
    {
     "data": {
      "text/plain": [
       "13"
      ]
     },
     "execution_count": 12,
     "metadata": {},
     "output_type": "execute_result"
    }
   ],
   "source": [
    "#lamdafunction\n",
    "\n",
    "def hitung(x,y):\n",
    "    return x**2 + y**2\n",
    "\n",
    "hitung (2,3)"
   ]
  },
  {
   "cell_type": "code",
   "execution_count": 18,
   "metadata": {},
   "outputs": [
    {
     "name": "stdout",
     "output_type": "stream",
     "text": [
      "hasil: 13\n"
     ]
    }
   ],
   "source": [
    "#lambdafunction\n",
    "hitung = lambda x, y : x**2 + y**2\n",
    "print (\"hasil:\", hitung(2,3))"
   ]
  },
  {
   "cell_type": "code",
   "execution_count": 19,
   "metadata": {},
   "outputs": [],
   "source": [
    "#returnstatement"
   ]
  },
  {
   "cell_type": "code",
   "execution_count": 22,
   "metadata": {},
   "outputs": [
    {
     "name": "stdout",
     "output_type": "stream",
     "text": [
      "nama teman saya adalah  elita\n"
     ]
    }
   ],
   "source": [
    "#global variables vs local variables\n",
    "\n",
    "#global variables = semua fungsi\n",
    "\n",
    "#local variables = fungsi tertentu saja\n",
    "\n",
    "nama = 'elita' #global variable\n",
    "def myfunc():\n",
    "    print('nama teman saya adalah  ' + nama)\n",
    "\n",
    "myfunc()"
   ]
  },
  {
   "cell_type": "code",
   "execution_count": 23,
   "metadata": {},
   "outputs": [
    {
     "name": "stdout",
     "output_type": "stream",
     "text": [
      "nama teman saya adalah  anita antono\n"
     ]
    }
   ],
   "source": [
    "#global variables vs local variables\n",
    "\n",
    "#global variables = semua fungsi\n",
    "\n",
    "#local variables = fungsi tertentu saja\n",
    "\n",
    "nama = 'elita' #global variable\n",
    "def myfunc():\n",
    "    nama = 'anita antono' #local\n",
    "    print('nama teman saya adalah  ' + nama)\n",
    "\n",
    "myfunc()"
   ]
  },
  {
   "cell_type": "code",
   "execution_count": 25,
   "metadata": {},
   "outputs": [
    {
     "name": "stdout",
     "output_type": "stream",
     "text": [
      "elita\n"
     ]
    }
   ],
   "source": [
    "#global variables vs local variables\n",
    "\n",
    "nama = 'elita' #global variable\n",
    "def myfunc():\n",
    "    nama = 'anita antono' #local\n",
    "    print('nama teman saya adalah  ' + nama)\n",
    "\n",
    "print (nama) #local tidak dipanggil"
   ]
  },
  {
   "cell_type": "code",
   "execution_count": 26,
   "metadata": {},
   "outputs": [
    {
     "name": "stdout",
     "output_type": "stream",
     "text": [
      "elita\n"
     ]
    }
   ],
   "source": [
    "#global variables vs local variables ---- hasil Anita Antono ---coba tonton lagi videonya\n",
    "\n",
    "nama = 'elita' #global variable\n",
    "def myfunc():\n",
    "    global nama\n",
    "    nama = 'anita antono' #local\n",
    "    print('nama teman saya adalah  ' + nama)\n",
    "\n",
    "print (nama) #memanggil global dan nama globalsudah berubah ke anita"
   ]
  },
  {
   "cell_type": "code",
   "execution_count": 5,
   "metadata": {},
   "outputs": [
    {
     "data": {
      "text/plain": [
       "'zack'"
      ]
     },
     "execution_count": 5,
     "metadata": {},
     "output_type": "execute_result"
    }
   ],
   "source": [
    "#modul dari person.py\n",
    "import person\n",
    "person.name"
   ]
  },
  {
   "cell_type": "code",
   "execution_count": 4,
   "metadata": {},
   "outputs": [
    {
     "data": {
      "text/plain": [
       "['laptop', 'smartphone', 'tablet']"
      ]
     },
     "execution_count": 4,
     "metadata": {},
     "output_type": "execute_result"
    }
   ],
   "source": [
    "#modul dari person.py\n",
    "import person\n",
    "person.devices"
   ]
  },
  {
   "cell_type": "code",
   "execution_count": 7,
   "metadata": {},
   "outputs": [
    {
     "name": "stdout",
     "output_type": "stream",
     "text": [
      "arg = hello Alita\n"
     ]
    }
   ],
   "source": [
    "import person\n",
    "person.display ('hello Alita')"
   ]
  },
  {
   "cell_type": "code",
   "execution_count": 3,
   "metadata": {},
   "outputs": [
    {
     "data": {
      "text/plain": [
       "['laptop', 'smartphone', 'tablet']"
      ]
     },
     "execution_count": 3,
     "metadata": {},
     "output_type": "execute_result"
    }
   ],
   "source": [
    "#import from\n",
    "from person import name, devices\n",
    "name\n"
   ]
  },
  {
   "cell_type": "code",
   "execution_count": 4,
   "metadata": {},
   "outputs": [
    {
     "data": {
      "text/plain": [
       "['laptop', 'smartphone', 'tablet']"
      ]
     },
     "execution_count": 4,
     "metadata": {},
     "output_type": "execute_result"
    }
   ],
   "source": [
    "#sudah import person dari bagian atas\n",
    "devices "
   ]
  },
  {
   "cell_type": "code",
   "execution_count": 8,
   "metadata": {},
   "outputs": [
    {
     "data": {
      "text/plain": [
       "'zack'"
      ]
     },
     "execution_count": 8,
     "metadata": {},
     "output_type": "execute_result"
    }
   ],
   "source": [
    "#inisialisasi\n",
    "from person import name as n, devices as d\n",
    "n"
   ]
  },
  {
   "cell_type": "code",
   "execution_count": 9,
   "metadata": {},
   "outputs": [
    {
     "ename": "NameError",
     "evalue": "name 'd' is not defined",
     "output_type": "error",
     "traceback": [
      "\u001b[1;31m---------------------------------------------------------------------------\u001b[0m",
      "\u001b[1;31mNameError\u001b[0m                                 Traceback (most recent call last)",
      "\u001b[1;32mC:\\Users\\WENNYC~1\\AppData\\Local\\Temp/ipykernel_7840/3161387801.py\u001b[0m in \u001b[0;36m<module>\u001b[1;34m\u001b[0m\n\u001b[1;32m----> 1\u001b[1;33m \u001b[0md\u001b[0m\u001b[1;33m\u001b[0m\u001b[1;33m\u001b[0m\u001b[0m\n\u001b[0m",
      "\u001b[1;31mNameError\u001b[0m: name 'd' is not defined"
     ]
    }
   ],
   "source": [
    "d "
   ]
  },
  {
   "cell_type": "code",
   "execution_count": null,
   "metadata": {},
   "outputs": [],
   "source": [
    "#import dari folder yang berbeda\n",
    "import package.mod1, package.mod2\n",
    "\n",
    "package.mod2.color\n",
    "\n",
    "#import dari folder yang berbeda dengan from\n",
    "from package.mod1"
   ]
  }
 ],
 "metadata": {
  "interpreter": {
   "hash": "16d585b2b6fd9b768cbbc82e697d03f4f72ca8738313edbb48a7607ea27d59db"
  },
  "kernelspec": {
   "display_name": "Python 3.9.7 64-bit ('base': conda)",
   "language": "python",
   "name": "python3"
  },
  "language_info": {
   "codemirror_mode": {
    "name": "ipython",
    "version": 3
   },
   "file_extension": ".py",
   "mimetype": "text/x-python",
   "name": "python",
   "nbconvert_exporter": "python",
   "pygments_lexer": "ipython3",
   "version": "3.9.7"
  },
  "orig_nbformat": 4
 },
 "nbformat": 4,
 "nbformat_minor": 2
}
